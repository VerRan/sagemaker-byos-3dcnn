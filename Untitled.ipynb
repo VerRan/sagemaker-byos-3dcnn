{
 "cells": [
  {
   "cell_type": "code",
   "execution_count": 1,
   "metadata": {},
   "outputs": [
    {
     "name": "stderr",
     "output_type": "stream",
     "text": [
      "No handlers could be found for logger \"sagemaker\"\n"
     ]
    }
   ],
   "source": [
    "import sagemaker\n",
    "from sagemaker.tensorflow import TensorFlow\n",
    "import os \n",
    "from sagemaker import get_execution_role\n",
    "\n",
    "sagemaker_session = sagemaker.Session()\n",
    "\n",
    "role = get_execution_role()\n",
    "region = sagemaker_session.boto_session.region_name\n"
   ]
  },
  {
   "cell_type": "code",
   "execution_count": 8,
   "metadata": {},
   "outputs": [
    {
     "name": "stdout",
     "output_type": "stream",
     "text": [
      "\u001b[33mDEPRECATION: Python 2.7 will reach the end of its life on January 1st, 2020. Please upgrade your Python as Python 2.7 won't be maintained after that date. A future version of pip will drop support for Python 2.7. More details about Python 2 support in pip, can be found at https://pip.pypa.io/en/latest/development/release-process/#python-2-support\u001b[0m\n",
      "Requirement already up-to-date: botocore in /home/ec2-user/anaconda3/envs/tensorflow_p27/lib/python2.7/site-packages (1.19.57)\n",
      "Requirement already satisfied, skipping upgrade: python-dateutil<3.0.0,>=2.1 in /home/ec2-user/anaconda3/envs/tensorflow_p27/lib/python2.7/site-packages (from botocore) (2.8.0)\n",
      "Requirement already satisfied, skipping upgrade: jmespath<1.0.0,>=0.7.1 in /home/ec2-user/anaconda3/envs/tensorflow_p27/lib/python2.7/site-packages (from botocore) (0.10.0)\n",
      "Requirement already satisfied, skipping upgrade: urllib3<1.27,>=1.25.4; python_version != \"3.4\" in /home/ec2-user/anaconda3/envs/tensorflow_p27/lib/python2.7/site-packages (from botocore) (1.25.10)\n",
      "Requirement already satisfied, skipping upgrade: six>=1.5 in /home/ec2-user/anaconda3/envs/tensorflow_p27/lib/python2.7/site-packages (from python-dateutil<3.0.0,>=2.1->botocore) (1.12.0)\n",
      "\u001b[33mWARNING: You are using pip version 19.2.3, however version 20.3.3 is available.\n",
      "You should consider upgrading via the 'pip install --upgrade pip' command.\u001b[0m\n"
     ]
    }
   ],
   "source": [
    "! pip install --upgrade botocore"
   ]
  },
  {
   "cell_type": "code",
   "execution_count": 9,
   "metadata": {},
   "outputs": [
    {
     "name": "stdout",
     "output_type": "stream",
     "text": [
      "\u001b[33mDEPRECATION: Python 2.7 will reach the end of its life on January 1st, 2020. Please upgrade your Python as Python 2.7 won't be maintained after that date. A future version of pip will drop support for Python 2.7. More details about Python 2 support in pip, can be found at https://pip.pypa.io/en/latest/development/release-process/#python-2-support\u001b[0m\n",
      "Requirement already up-to-date: boto3 in /home/ec2-user/anaconda3/envs/tensorflow_p27/lib/python2.7/site-packages (1.16.57)\n",
      "Requirement already satisfied, skipping upgrade: jmespath<1.0.0,>=0.7.1 in /home/ec2-user/anaconda3/envs/tensorflow_p27/lib/python2.7/site-packages (from boto3) (0.10.0)\n",
      "Requirement already satisfied, skipping upgrade: botocore<1.20.0,>=1.19.57 in /home/ec2-user/anaconda3/envs/tensorflow_p27/lib/python2.7/site-packages (from boto3) (1.19.57)\n",
      "Requirement already satisfied, skipping upgrade: s3transfer<0.4.0,>=0.3.0 in /home/ec2-user/anaconda3/envs/tensorflow_p27/lib/python2.7/site-packages (from boto3) (0.3.0)\n",
      "Requirement already satisfied, skipping upgrade: python-dateutil<3.0.0,>=2.1 in /home/ec2-user/anaconda3/envs/tensorflow_p27/lib/python2.7/site-packages (from botocore<1.20.0,>=1.19.57->boto3) (2.8.0)\n",
      "Requirement already satisfied, skipping upgrade: urllib3<1.27,>=1.25.4; python_version != \"3.4\" in /home/ec2-user/anaconda3/envs/tensorflow_p27/lib/python2.7/site-packages (from botocore<1.20.0,>=1.19.57->boto3) (1.25.10)\n",
      "Requirement already satisfied, skipping upgrade: futures<4.0.0,>=2.2.0; python_version == \"2.7\" in /home/ec2-user/anaconda3/envs/tensorflow_p27/lib/python2.7/site-packages (from s3transfer<0.4.0,>=0.3.0->boto3) (3.3.0)\n",
      "Requirement already satisfied, skipping upgrade: six>=1.5 in /home/ec2-user/anaconda3/envs/tensorflow_p27/lib/python2.7/site-packages (from python-dateutil<3.0.0,>=2.1->botocore<1.20.0,>=1.19.57->boto3) (1.12.0)\n",
      "\u001b[33mWARNING: You are using pip version 19.2.3, however version 20.3.3 is available.\n",
      "You should consider upgrading via the 'pip install --upgrade pip' command.\u001b[0m\n"
     ]
    }
   ],
   "source": [
    "! pip install --upgrade boto3"
   ]
  },
  {
   "cell_type": "code",
   "execution_count": 10,
   "metadata": {},
   "outputs": [
    {
     "name": "stdout",
     "output_type": "stream",
     "text": [
      "\u001b[33mDEPRECATION: Python 2.7 will reach the end of its life on January 1st, 2020. Please upgrade your Python as Python 2.7 won't be maintained after that date. A future version of pip will drop support for Python 2.7. More details about Python 2 support in pip, can be found at https://pip.pypa.io/en/latest/development/release-process/#python-2-support\u001b[0m\n",
      "Collecting sagemaker\n",
      "  Using cached https://files.pythonhosted.org/packages/4a/c7/b1591a45b72774bad9f31b87915177f6b627b32f00b0f153e1e7a8cc717f/sagemaker-2.23.5.tar.gz\n",
      "Requirement already satisfied, skipping upgrade: attrs in /home/ec2-user/anaconda3/envs/tensorflow_p27/lib/python2.7/site-packages (from sagemaker) (19.2.0)\n",
      "Requirement already satisfied, skipping upgrade: boto3>=1.16.32 in /home/ec2-user/anaconda3/envs/tensorflow_p27/lib/python2.7/site-packages (from sagemaker) (1.16.57)\n",
      "Requirement already satisfied, skipping upgrade: google-pasta in /home/ec2-user/anaconda3/envs/tensorflow_p27/lib/python2.7/site-packages (from sagemaker) (0.2.0)\n",
      "Requirement already satisfied, skipping upgrade: numpy>=1.9.0 in /home/ec2-user/anaconda3/envs/tensorflow_p27/lib/python2.7/site-packages (from sagemaker) (1.16.5)\n",
      "Requirement already satisfied, skipping upgrade: protobuf>=3.1 in /home/ec2-user/anaconda3/envs/tensorflow_p27/lib/python2.7/site-packages (from sagemaker) (3.8.0)\n",
      "Requirement already satisfied, skipping upgrade: protobuf3-to-dict>=0.1.5 in /home/ec2-user/anaconda3/envs/tensorflow_p27/lib/python2.7/site-packages (from sagemaker) (0.1.5)\n",
      "Collecting smdebug_rulesconfig==1.0.1 (from sagemaker)\n",
      "  Using cached https://files.pythonhosted.org/packages/26/a1/45a13a05198bbe9527bab2c5e5daa8bd02678aa825eec14783e767bfa7d1/smdebug_rulesconfig-1.0.1-py2.py3-none-any.whl\n",
      "Requirement already satisfied, skipping upgrade: importlib-metadata>=1.4.0 in /home/ec2-user/anaconda3/envs/tensorflow_p27/lib/python2.7/site-packages (from sagemaker) (2.0.0)\n",
      "Requirement already satisfied, skipping upgrade: packaging>=20.0 in /home/ec2-user/anaconda3/envs/tensorflow_p27/lib/python2.7/site-packages (from sagemaker) (20.4)\n",
      "Requirement already satisfied, skipping upgrade: jmespath<1.0.0,>=0.7.1 in /home/ec2-user/anaconda3/envs/tensorflow_p27/lib/python2.7/site-packages (from boto3>=1.16.32->sagemaker) (0.10.0)\n",
      "Requirement already satisfied, skipping upgrade: botocore<1.20.0,>=1.19.57 in /home/ec2-user/anaconda3/envs/tensorflow_p27/lib/python2.7/site-packages (from boto3>=1.16.32->sagemaker) (1.19.57)\n",
      "Requirement already satisfied, skipping upgrade: s3transfer<0.4.0,>=0.3.0 in /home/ec2-user/anaconda3/envs/tensorflow_p27/lib/python2.7/site-packages (from boto3>=1.16.32->sagemaker) (0.3.0)\n",
      "Requirement already satisfied, skipping upgrade: six in /home/ec2-user/anaconda3/envs/tensorflow_p27/lib/python2.7/site-packages (from google-pasta->sagemaker) (1.12.0)\n",
      "Requirement already satisfied, skipping upgrade: setuptools in /home/ec2-user/anaconda3/envs/tensorflow_p27/lib/python2.7/site-packages (from protobuf>=3.1->sagemaker) (41.4.0)\n",
      "Requirement already satisfied, skipping upgrade: configparser>=3.5; python_version < \"3\" in /home/ec2-user/anaconda3/envs/tensorflow_p27/lib/python2.7/site-packages (from importlib-metadata>=1.4.0->sagemaker) (4.0.2)\n",
      "Requirement already satisfied, skipping upgrade: zipp>=0.5 in /home/ec2-user/anaconda3/envs/tensorflow_p27/lib/python2.7/site-packages (from importlib-metadata>=1.4.0->sagemaker) (0.6.0)\n",
      "Requirement already satisfied, skipping upgrade: contextlib2; python_version < \"3\" in /home/ec2-user/anaconda3/envs/tensorflow_p27/lib/python2.7/site-packages (from importlib-metadata>=1.4.0->sagemaker) (0.6.0)\n",
      "Requirement already satisfied, skipping upgrade: pathlib2; python_version < \"3\" in /home/ec2-user/anaconda3/envs/tensorflow_p27/lib/python2.7/site-packages (from importlib-metadata>=1.4.0->sagemaker) (2.3.5)\n",
      "Requirement already satisfied, skipping upgrade: pyparsing>=2.0.2 in /home/ec2-user/anaconda3/envs/tensorflow_p27/lib/python2.7/site-packages (from packaging>=20.0->sagemaker) (2.4.2)\n",
      "Requirement already satisfied, skipping upgrade: python-dateutil<3.0.0,>=2.1 in /home/ec2-user/anaconda3/envs/tensorflow_p27/lib/python2.7/site-packages (from botocore<1.20.0,>=1.19.57->boto3>=1.16.32->sagemaker) (2.8.0)\n",
      "Requirement already satisfied, skipping upgrade: urllib3<1.27,>=1.25.4; python_version != \"3.4\" in /home/ec2-user/anaconda3/envs/tensorflow_p27/lib/python2.7/site-packages (from botocore<1.20.0,>=1.19.57->boto3>=1.16.32->sagemaker) (1.25.10)\n",
      "Requirement already satisfied, skipping upgrade: futures<4.0.0,>=2.2.0; python_version == \"2.7\" in /home/ec2-user/anaconda3/envs/tensorflow_p27/lib/python2.7/site-packages (from s3transfer<0.4.0,>=0.3.0->boto3>=1.16.32->sagemaker) (3.3.0)\n",
      "Requirement already satisfied, skipping upgrade: more-itertools in /home/ec2-user/anaconda3/envs/tensorflow_p27/lib/python2.7/site-packages (from zipp>=0.5->importlib-metadata>=1.4.0->sagemaker) (5.0.0)\n",
      "Requirement already satisfied, skipping upgrade: scandir; python_version < \"3.5\" in /home/ec2-user/anaconda3/envs/tensorflow_p27/lib/python2.7/site-packages (from pathlib2; python_version < \"3\"->importlib-metadata>=1.4.0->sagemaker) (1.10.0)\n",
      "Building wheels for collected packages: sagemaker\n",
      "  Building wheel for sagemaker (setup.py) ... \u001b[?25ldone\n",
      "\u001b[?25h  Created wheel for sagemaker: filename=sagemaker-2.23.5-py2.py3-none-any.whl size=559643 sha256=b59f9ec3f619340b01eff32d071ad120e74780340b6015073ba618c228e708b3\n",
      "  Stored in directory: /home/ec2-user/.cache/pip/wheels/69/9e/24/9d809234a42dc7f5a42ab8ecaa350c5b658f577010bde05bb2\n",
      "Successfully built sagemaker\n",
      "Installing collected packages: smdebug-rulesconfig, sagemaker\n",
      "  Found existing installation: smdebug-rulesconfig 0.1.4\n",
      "    Uninstalling smdebug-rulesconfig-0.1.4:\n",
      "      Successfully uninstalled smdebug-rulesconfig-0.1.4\n",
      "  Found existing installation: sagemaker 1.72.1\n",
      "    Uninstalling sagemaker-1.72.1:\n",
      "      Successfully uninstalled sagemaker-1.72.1\n",
      "Successfully installed sagemaker-2.23.5 smdebug-rulesconfig-1.0.1\n",
      "\u001b[33mWARNING: You are using pip version 19.2.3, however version 20.3.3 is available.\n",
      "You should consider upgrading via the 'pip install --upgrade pip' command.\u001b[0m\n"
     ]
    }
   ],
   "source": [
    "! pip install --upgrade sagemaker"
   ]
  },
  {
   "cell_type": "code",
   "execution_count": 15,
   "metadata": {},
   "outputs": [
    {
     "data": {
      "text/plain": [
       "'s3://sagemaker-cn-northwest-1-462130072016/np-datasets'"
      ]
     },
     "execution_count": 15,
     "metadata": {},
     "output_type": "execute_result"
    }
   ],
   "source": [
    "# 将np-datasets目录下的np文件上传到sagemaker-studio默认桶下的np-datasets文件夹下\n",
    "inputs = sagemaker.Session().upload_data(path='np-datasets', key_prefix='np-datasets')\n",
    "inputs"
   ]
  },
  {
   "cell_type": "code",
   "execution_count": 16,
   "metadata": {},
   "outputs": [],
   "source": [
    "hyperparameters = {'epoch': 3, \n",
    "                   'data_dir': '/opt/ml/input/data/training',\n",
    "                   'batch': 3, \n",
    "                   'nclass': 8,\n",
    "                   'output': '/opt/ml/output',\n",
    "                  }"
   ]
  },
  {
   "cell_type": "code",
   "execution_count": 20,
   "metadata": {},
   "outputs": [],
   "source": [
    "estimator = TensorFlow(entry_point='sagemaker-3dcnn.py',\n",
    "#                        image_uri = image_uri,\n",
    "                       train_instance_type='ml.c4.xlarge',\n",
    "                       train_instance_count=1,\n",
    "                       hyperparameters=hyperparameters,\n",
    "                       role=sagemaker.get_execution_role(),\n",
    "                       framework_version='1.15.2',\n",
    "                       py_version='py3',\n",
    "                       script_mode=True)"
   ]
  },
  {
   "cell_type": "code",
   "execution_count": 21,
   "metadata": {},
   "outputs": [
    {
     "name": "stdout",
     "output_type": "stream",
     "text": [
      "2021-01-20 10:18:57 Starting - Starting the training job......\n",
      "2021-01-20 10:19:46 Starting - Launching requested ML instances......\n",
      "2021-01-20 10:20:48 Starting - Preparing the instances for training......\n",
      "2021-01-20 10:21:44 Downloading - Downloading input data...\n",
      "2021-01-20 10:22:18 Training - Downloading the training image..\u001b[34mWARNING:tensorflow:From /usr/local/lib/python3.6/dist-packages/tensorflow_core/__init__.py:1473: The name tf.estimator.inputs is deprecated. Please use tf.compat.v1.estimator.inputs instead.\n",
      "\u001b[0m\n",
      "\u001b[34m2021-01-20 10:22:37,605 sagemaker-containers INFO     Imported framework sagemaker_tensorflow_container.training\u001b[0m\n",
      "\u001b[34m2021-01-20 10:22:37,610 sagemaker-containers INFO     No GPUs detected (normal if no gpus installed)\u001b[0m\n",
      "\u001b[34m2021-01-20 10:22:38,025 sagemaker-containers INFO     No GPUs detected (normal if no gpus installed)\u001b[0m\n",
      "\u001b[34m2021-01-20 10:22:38,041 sagemaker-containers INFO     No GPUs detected (normal if no gpus installed)\u001b[0m\n",
      "\u001b[34m2021-01-20 10:22:38,056 sagemaker-containers INFO     No GPUs detected (normal if no gpus installed)\u001b[0m\n",
      "\u001b[34m2021-01-20 10:22:38,066 sagemaker-containers INFO     Invoking user script\n",
      "\u001b[0m\n",
      "\u001b[34mTraining Env:\n",
      "\u001b[0m\n",
      "\u001b[34m{\n",
      "    \"additional_framework_parameters\": {},\n",
      "    \"channel_input_dirs\": {\n",
      "        \"training\": \"/opt/ml/input/data/training\"\n",
      "    },\n",
      "    \"current_host\": \"algo-1\",\n",
      "    \"framework_module\": \"sagemaker_tensorflow_container.training:main\",\n",
      "    \"hosts\": [\n",
      "        \"algo-1\"\n",
      "    ],\n",
      "    \"hyperparameters\": {\n",
      "        \"nclass\": 8,\n",
      "        \"output\": \"/opt/ml/output\",\n",
      "        \"batch\": 3,\n",
      "        \"epoch\": 3,\n",
      "        \"model_dir\": \"s3://sagemaker-cn-northwest-1-462130072016/tensorflow-training-2021-01-20-10-18-56-678/model\",\n",
      "        \"data_dir\": \"/opt/ml/input/data/training\"\n",
      "    },\n",
      "    \"input_config_dir\": \"/opt/ml/input/config\",\n",
      "    \"input_data_config\": {\n",
      "        \"training\": {\n",
      "            \"TrainingInputMode\": \"File\",\n",
      "            \"S3DistributionType\": \"FullyReplicated\",\n",
      "            \"RecordWrapperType\": \"None\"\n",
      "        }\n",
      "    },\n",
      "    \"input_dir\": \"/opt/ml/input\",\n",
      "    \"is_master\": true,\n",
      "    \"job_name\": \"tensorflow-training-2021-01-20-10-18-56-678\",\n",
      "    \"log_level\": 20,\n",
      "    \"master_hostname\": \"algo-1\",\n",
      "    \"model_dir\": \"/opt/ml/model\",\n",
      "    \"module_dir\": \"s3://sagemaker-cn-northwest-1-462130072016/tensorflow-training-2021-01-20-10-18-56-678/source/sourcedir.tar.gz\",\n",
      "    \"module_name\": \"sagemaker-3dcnn\",\n",
      "    \"network_interface_name\": \"eth0\",\n",
      "    \"num_cpus\": 4,\n",
      "    \"num_gpus\": 0,\n",
      "    \"output_data_dir\": \"/opt/ml/output/data\",\n",
      "    \"output_dir\": \"/opt/ml/output\",\n",
      "    \"output_intermediate_dir\": \"/opt/ml/output/intermediate\",\n",
      "    \"resource_config\": {\n",
      "        \"current_host\": \"algo-1\",\n",
      "        \"hosts\": [\n",
      "            \"algo-1\"\n",
      "        ],\n",
      "        \"network_interface_name\": \"eth0\"\n",
      "    },\n",
      "    \"user_entry_point\": \"sagemaker-3dcnn.py\"\u001b[0m\n",
      "\u001b[34m}\n",
      "\u001b[0m\n",
      "\u001b[34mEnvironment variables:\n",
      "\u001b[0m\n",
      "\u001b[34mSM_HOSTS=[\"algo-1\"]\u001b[0m\n",
      "\u001b[34mSM_NETWORK_INTERFACE_NAME=eth0\u001b[0m\n",
      "\u001b[34mSM_HPS={\"batch\":3,\"data_dir\":\"/opt/ml/input/data/training\",\"epoch\":3,\"model_dir\":\"s3://sagemaker-cn-northwest-1-462130072016/tensorflow-training-2021-01-20-10-18-56-678/model\",\"nclass\":8,\"output\":\"/opt/ml/output\"}\u001b[0m\n",
      "\u001b[34mSM_USER_ENTRY_POINT=sagemaker-3dcnn.py\u001b[0m\n",
      "\u001b[34mSM_FRAMEWORK_PARAMS={}\u001b[0m\n",
      "\u001b[34mSM_RESOURCE_CONFIG={\"current_host\":\"algo-1\",\"hosts\":[\"algo-1\"],\"network_interface_name\":\"eth0\"}\u001b[0m\n",
      "\u001b[34mSM_INPUT_DATA_CONFIG={\"training\":{\"RecordWrapperType\":\"None\",\"S3DistributionType\":\"FullyReplicated\",\"TrainingInputMode\":\"File\"}}\u001b[0m\n",
      "\u001b[34mSM_OUTPUT_DATA_DIR=/opt/ml/output/data\u001b[0m\n",
      "\u001b[34mSM_CHANNELS=[\"training\"]\u001b[0m\n",
      "\u001b[34mSM_CURRENT_HOST=algo-1\u001b[0m\n",
      "\u001b[34mSM_MODULE_NAME=sagemaker-3dcnn\u001b[0m\n",
      "\u001b[34mSM_LOG_LEVEL=20\u001b[0m\n",
      "\u001b[34mSM_FRAMEWORK_MODULE=sagemaker_tensorflow_container.training:main\u001b[0m\n",
      "\u001b[34mSM_INPUT_DIR=/opt/ml/input\u001b[0m\n",
      "\u001b[34mSM_INPUT_CONFIG_DIR=/opt/ml/input/config\u001b[0m\n",
      "\u001b[34mSM_OUTPUT_DIR=/opt/ml/output\u001b[0m\n",
      "\u001b[34mSM_NUM_CPUS=4\u001b[0m\n",
      "\u001b[34mSM_NUM_GPUS=0\u001b[0m\n",
      "\u001b[34mSM_MODEL_DIR=/opt/ml/model\u001b[0m\n",
      "\u001b[34mSM_MODULE_DIR=s3://sagemaker-cn-northwest-1-462130072016/tensorflow-training-2021-01-20-10-18-56-678/source/sourcedir.tar.gz\u001b[0m\n",
      "\u001b[34mSM_TRAINING_ENV={\"additional_framework_parameters\":{},\"channel_input_dirs\":{\"training\":\"/opt/ml/input/data/training\"},\"current_host\":\"algo-1\",\"framework_module\":\"sagemaker_tensorflow_container.training:main\",\"hosts\":[\"algo-1\"],\"hyperparameters\":{\"batch\":3,\"data_dir\":\"/opt/ml/input/data/training\",\"epoch\":3,\"model_dir\":\"s3://sagemaker-cn-northwest-1-462130072016/tensorflow-training-2021-01-20-10-18-56-678/model\",\"nclass\":8,\"output\":\"/opt/ml/output\"},\"input_config_dir\":\"/opt/ml/input/config\",\"input_data_config\":{\"training\":{\"RecordWrapperType\":\"None\",\"S3DistributionType\":\"FullyReplicated\",\"TrainingInputMode\":\"File\"}},\"input_dir\":\"/opt/ml/input\",\"is_master\":true,\"job_name\":\"tensorflow-training-2021-01-20-10-18-56-678\",\"log_level\":20,\"master_hostname\":\"algo-1\",\"model_dir\":\"/opt/ml/model\",\"module_dir\":\"s3://sagemaker-cn-northwest-1-462130072016/tensorflow-training-2021-01-20-10-18-56-678/source/sourcedir.tar.gz\",\"module_name\":\"sagemaker-3dcnn\",\"network_interface_name\":\"eth0\",\"num_cpus\":4,\"num_gpus\":0,\"output_data_dir\":\"/opt/ml/output/data\",\"output_dir\":\"/opt/ml/output\",\"output_intermediate_dir\":\"/opt/ml/output/intermediate\",\"resource_config\":{\"current_host\":\"algo-1\",\"hosts\":[\"algo-1\"],\"network_interface_name\":\"eth0\"},\"user_entry_point\":\"sagemaker-3dcnn.py\"}\u001b[0m\n",
      "\u001b[34mSM_USER_ARGS=[\"--batch\",\"3\",\"--data_dir\",\"/opt/ml/input/data/training\",\"--epoch\",\"3\",\"--model_dir\",\"s3://sagemaker-cn-northwest-1-462130072016/tensorflow-training-2021-01-20-10-18-56-678/model\",\"--nclass\",\"8\",\"--output\",\"/opt/ml/output\"]\u001b[0m\n",
      "\u001b[34mSM_OUTPUT_INTERMEDIATE_DIR=/opt/ml/output/intermediate\u001b[0m\n",
      "\u001b[34mSM_CHANNEL_TRAINING=/opt/ml/input/data/training\u001b[0m\n",
      "\u001b[34mSM_HP_NCLASS=8\u001b[0m\n",
      "\u001b[34mSM_HP_OUTPUT=/opt/ml/output\u001b[0m\n",
      "\u001b[34mSM_HP_BATCH=3\u001b[0m\n",
      "\u001b[34mSM_HP_EPOCH=3\u001b[0m\n",
      "\u001b[34mSM_HP_MODEL_DIR=s3://sagemaker-cn-northwest-1-462130072016/tensorflow-training-2021-01-20-10-18-56-678/model\u001b[0m\n",
      "\u001b[34mSM_HP_DATA_DIR=/opt/ml/input/data/training\u001b[0m\n",
      "\u001b[34mPYTHONPATH=/opt/ml/code:/usr/local/bin:/usr/lib/python36.zip:/usr/lib/python3.6:/usr/lib/python3.6/lib-dynload:/usr/local/lib/python3.6/dist-packages:/usr/lib/python3/dist-packages\n",
      "\u001b[0m\n",
      "\u001b[34mInvoking script with the following command:\n",
      "\u001b[0m\n",
      "\u001b[34m/usr/bin/python3 sagemaker-3dcnn.py --batch 3 --data_dir /opt/ml/input/data/training --epoch 3 --model_dir s3://sagemaker-cn-northwest-1-462130072016/tensorflow-training-2021-01-20-10-18-56-678/model --nclass 8 --output /opt/ml/output\n",
      "\n",
      "\u001b[0m\n",
      "\u001b[34mUsing TensorFlow backend.\u001b[0m\n",
      "\u001b[34mWARNING:tensorflow:From /usr/local/lib/python3.6/dist-packages/tensorflow_core/__init__.py:1473: The name tf.estimator.inputs is deprecated. Please use tf.compat.v1.estimator.inputs instead.\n",
      "\u001b[0m\n",
      "\u001b[34mWARNING:tensorflow:From /usr/local/lib/python3.6/dist-packages/tensorflow_core/python/ops/resource_variable_ops.py:1630: calling BaseResourceVariable.__init__ (from tensorflow.python.ops.resource_variable_ops) with constraint is deprecated and will be removed in a future version.\u001b[0m\n",
      "\u001b[34mInstructions for updating:\u001b[0m\n",
      "\u001b[34mIf using Keras pass *_constraint arguments to layers.\u001b[0m\n",
      "\u001b[34mModel: \"sequential_1\"\u001b[0m\n",
      "\u001b[34m_________________________________________________________________\u001b[0m\n",
      "\u001b[34mLayer (type)                 Output Shape              Param #   \u001b[0m\n",
      "\u001b[34m=================================================================\u001b[0m\n",
      "\u001b[34mconv3d_1 (Conv3D)            (None, 32, 32, 15, 32)    2624      \u001b[0m\n",
      "\u001b[34m_________________________________________________________________\u001b[0m\n",
      "\u001b[34mactivation_1 (Activation)    (None, 32, 32, 15, 32)    0         \u001b[0m\n",
      "\u001b[34m_________________________________________________________________\u001b[0m\n",
      "\u001b[34mconv3d_2 (Conv3D)            (None, 32, 32, 15, 32)    27680     \u001b[0m\n",
      "\u001b[34m_________________________________________________________________\u001b[0m\n",
      "\u001b[34mactivation_2 (Activation)    (None, 32, 32, 15, 32)    0         \u001b[0m\n",
      "\u001b[34m_________________________________________________________________\u001b[0m\n",
      "\u001b[34mmax_pooling3d_1 (MaxPooling3 (None, 11, 11, 5, 32)     0         \u001b[0m\n",
      "\u001b[34m_________________________________________________________________\u001b[0m\n",
      "\u001b[34mdropout_1 (Dropout)          (None, 11, 11, 5, 32)     0         \u001b[0m\n",
      "\u001b[34m_________________________________________________________________\u001b[0m\n",
      "\u001b[34mconv3d_3 (Conv3D)            (None, 11, 11, 5, 64)     55360     \u001b[0m\n",
      "\u001b[34m_________________________________________________________________\u001b[0m\n",
      "\u001b[34mactivation_3 (Activation)    (None, 11, 11, 5, 64)     0         \u001b[0m\n",
      "\u001b[34m_________________________________________________________________\u001b[0m\n",
      "\u001b[34mconv3d_4 (Conv3D)            (None, 11, 11, 5, 64)     110656    \u001b[0m\n",
      "\u001b[34m_________________________________________________________________\u001b[0m\n",
      "\u001b[34mactivation_4 (Activation)    (None, 11, 11, 5, 64)     0         \u001b[0m\n",
      "\u001b[34m_________________________________________________________________\u001b[0m\n",
      "\u001b[34mmax_pooling3d_2 (MaxPooling3 (None, 4, 4, 2, 64)       0         \u001b[0m\n",
      "\u001b[34m_________________________________________________________________\u001b[0m\n",
      "\u001b[34mdropout_2 (Dropout)          (None, 4, 4, 2, 64)       0         \u001b[0m\n",
      "\u001b[34m_________________________________________________________________\u001b[0m\n",
      "\u001b[34mflatten_1 (Flatten)          (None, 2048)              0         \u001b[0m\n",
      "\u001b[34m_________________________________________________________________\u001b[0m\n",
      "\u001b[34mdense_1 (Dense)              (None, 512)               1049088   \u001b[0m\n",
      "\u001b[34m_________________________________________________________________\u001b[0m\n",
      "\u001b[34mdropout_3 (Dropout)          (None, 512)               0         \u001b[0m\n",
      "\u001b[34m_________________________________________________________________\u001b[0m\n",
      "\u001b[34mdense_2 (Dense)              (None, 8)                 4104      \u001b[0m\n",
      "\u001b[34m=================================================================\u001b[0m\n",
      "\u001b[34mTotal params: 1,249,512\u001b[0m\n",
      "\u001b[34mTrainable params: 1,249,512\u001b[0m\n",
      "\u001b[34mNon-trainable params: 0\u001b[0m\n",
      "\u001b[34m_________________________________________________________________\u001b[0m\n",
      "\u001b[34mWARNING:tensorflow:From /usr/local/lib/python3.6/dist-packages/keras/backend/tensorflow_backend.py:422: The name tf.global_variables is deprecated. Please use tf.compat.v1.global_variables instead.\n",
      "\u001b[0m\n",
      "\u001b[34mTrain on 3 samples, validate on 1 samples\u001b[0m\n",
      "\u001b[34mEpoch 1/3\u001b[0m\n",
      "\u001b[34m3/3 [==============================] - 2s 557ms/step - loss: 1.9410 - accuracy: 0.3333 - val_loss: 1.4908 - val_accuracy: 1.0000\u001b[0m\n",
      "\u001b[34mEpoch 2/3\n",
      "\u001b[0m\n",
      "\u001b[34m3/3 [==============================] - 0s 72ms/step - loss: 2.3054 - accuracy: 0.0000e+00 - val_loss: 1.6539 - val_accuracy: 0.0000e+00\u001b[0m\n",
      "\u001b[34mEpoch 3/3\u001b[0m\n",
      "\u001b[34m3/3 [==============================] - 0s 70ms/step - loss: 2.0051 - accuracy: 0.0000e+00 - val_loss: 1.8801 - val_accuracy: 0.0000e+00\u001b[0m\n",
      "\u001b[34m2021-01-20 10:22:44,256 sagemaker_tensorflow_container.training WARNING  No model artifact is saved under path /opt/ml/model. Your training job will not save any model files to S3.\u001b[0m\n",
      "\u001b[34mFor details of how to construct your training script see:\u001b[0m\n",
      "\u001b[34mhttps://sagemaker.readthedocs.io/en/stable/using_tf.html#adapting-your-local-tensorflow-script\u001b[0m\n",
      "\u001b[34m2021-01-20 10:22:44,256 sagemaker-containers INFO     Reporting training SUCCESS\u001b[0m\n",
      "\n",
      "2021-01-20 10:22:47 Uploading - Uploading generated training model\n",
      "2021-01-20 10:23:09 Completed - Training job completed\n",
      "Training seconds: 85\n",
      "Billable seconds: 85\n"
     ]
    }
   ],
   "source": [
    "estimator.fit({'training': inputs})"
   ]
  },
  {
   "cell_type": "code",
   "execution_count": null,
   "metadata": {},
   "outputs": [],
   "source": []
  }
 ],
 "metadata": {
  "kernelspec": {
   "display_name": "conda_tensorflow_p27",
   "language": "python",
   "name": "conda_tensorflow_p27"
  },
  "language_info": {
   "codemirror_mode": {
    "name": "ipython",
    "version": 2
   },
   "file_extension": ".py",
   "mimetype": "text/x-python",
   "name": "python",
   "nbconvert_exporter": "python",
   "pygments_lexer": "ipython2",
   "version": "2.7.16"
  }
 },
 "nbformat": 4,
 "nbformat_minor": 4
}
