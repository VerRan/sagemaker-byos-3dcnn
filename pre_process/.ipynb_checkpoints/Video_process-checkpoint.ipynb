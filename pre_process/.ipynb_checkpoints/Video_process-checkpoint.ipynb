{
 "cells": [
  {
   "cell_type": "markdown",
   "metadata": {},
   "source": [
    "# 使用sagemaker-processing-job 进行视频文件预处理"
   ]
  },
  {
   "cell_type": "code",
   "execution_count": 124,
   "metadata": {},
   "outputs": [],
   "source": [
    "import sagemaker\n",
    "from sagemaker.tensorflow import TensorFlow\n",
    "import os \n",
    "from sagemaker import get_execution_role\n",
    "\n",
    "sagemaker_session = sagemaker.Session()\n",
    "\n",
    "role = get_execution_role()\n",
    "image_uri = '517141035927.dkr.ecr.us-west-2.amazonaws.com/cv-pre-processing:latest'\n"
   ]
  },
  {
   "cell_type": "code",
   "execution_count": 123,
   "metadata": {},
   "outputs": [
    {
     "name": "stdout",
     "output_type": "stream",
     "text": [
      "\n",
      "Job Name:  cv-pre-processing-2020-12-28-04-38-15-019\n",
      "Inputs:  [{'InputName': 'input-1', 'S3Input': {'S3Uri': 's3://sagemaker-us-west-2-517141035927/dataset/videos/', 'LocalPath': '/opt/ml/processing/input_data', 'S3DataType': 'S3Prefix', 'S3InputMode': 'File', 'S3DataDistributionType': 'FullyReplicated', 'S3CompressionType': 'None'}}]\n",
      "Outputs:  [{'OutputName': 'output-1', 'S3Output': {'S3Uri': 's3://sagemaker-us-west-2-517141035927/dataset/np/', 'LocalPath': '/opt/ml/processing/processed_data', 'S3UploadMode': 'EndOfJob'}}]\n",
      ".....................\n",
      "\u001b[34m2020-12-28 04:41:31.961475: W tensorflow/stream_executor/platform/default/dso_loader.cc:60] Could not load dynamic library 'libcudart.so.11.0'; dlerror: libcudart.so.11.0: cannot open shared object file: No such file or directory\u001b[0m\n",
      "\u001b[34m2020-12-28 04:41:31.961511: I tensorflow/stream_executor/cuda/cudart_stub.cc:29] Ignore above cudart dlerror if you do not have a GPU set up on your machine.\u001b[0m\n",
      "\u001b[34mfilename is /opt/ml/processing/input_data/Drama_1.mp4\u001b[0m\n",
      "\u001b[34mfilename is /opt/ml/processing/input_data/Gaming_1.mp4\u001b[0m\n",
      "\u001b[34mfilename is /opt/ml/processing/input_data/tt-1597729970814458.mp4\u001b[0m\n",
      "\u001b[34mfilename is /opt/ml/processing/input_data/Beauty_2.mp4\u001b[0m\n",
      "\u001b[34mfilename is /opt/ml/processing/input_data/Comedy_Funny_2.mp4\u001b[0m\n",
      "\u001b[34mfilename is /opt/ml/processing/input_data/Comedy_Funny_1.mp4\u001b[0m\n",
      "\u001b[34mfilename is /opt/ml/processing/input_data/Music_2.mp4\u001b[0m\n",
      "\u001b[34mfilename is /opt/ml/processing/input_data/1597729970847089.mp4\u001b[0m\n",
      "\u001b[34mfilename is /opt/ml/processing/input_data/Outdoor_Activities_2.mp4\u001b[0m\n",
      "\u001b[34mfilename is /opt/ml/processing/input_data/Beauty_1.mp4\u001b[0m\n",
      "\u001b[34mfilename is /opt/ml/processing/input_data/Gaming_2.mp4\u001b[0m\n",
      "\u001b[34mfilename is /opt/ml/processing/input_data/Outdoor_Activities_1.mp4\u001b[0m\n",
      "\u001b[34mfilename is /opt/ml/processing/input_data/Drama_2.mp4\u001b[0m\n",
      "\u001b[34mfilename is /opt/ml/processing/input_data/Music_1.mp4\u001b[0m\n",
      "\u001b[34mSaved dataset to  /opt/ml/processing/processed_data/dataset_8_15_False.npz\u001b[0m\n",
      "\u001b[34mX_shape:(14, 32, 32, 15, 3)\u001b[0m\n",
      "\u001b[34mY_shape:(14, 8)\u001b[0m\n"
     ]
    }
   ],
   "source": [
    "from sagemaker.processing import Processor, ScriptProcessor, ProcessingInput, ProcessingOutput\n",
    "\n",
    "# processor = ScriptProcessor(command=['python3'],\n",
    "#                 image_uri=image_uri,\n",
    "#                 role=role,\n",
    "#                 instance_count=1,\n",
    "#                 instance_type='ml.m5.xlarge')\n",
    "# processor.run(code='processing_script.py',inputs=[ProcessingInput(\n",
    "#                         source='s3://sagemaker-us-west-2-517141035927/dataset/videos/',\n",
    "#                         destination='/opt/ml/processing/input_data')],\n",
    "#                     outputs=[ProcessingOutput(\n",
    "#                         source='/opt/ml/processing/processed_data',\n",
    "#                         destination='s3://sagemaker-us-west-2-517141035927/dataset/np/')],\n",
    "#                     )\n",
    "processor = Processor(image_uri=image_uri,\n",
    "                     role=role,\n",
    "                     instance_count=1,\n",
    "                     instance_type=\"ml.c5.2xlarge\")\n",
    "processor.run(inputs=[ProcessingInput(\n",
    "                        source='s3://sagemaker-us-west-2-517141035927/dataset/videos/',\n",
    "                        destination='/opt/ml/processing/input_data')],\n",
    "#                         destination='/opt/ml/processing/input_data',s3_input_mode = 'Pipe')],\n",
    "                    outputs=[ProcessingOutput(\n",
    "                        source='/opt/ml/processing/processed_data',\n",
    "                        destination='s3://sagemaker-us-west-2-517141035927/dataset/np/')],\n",
    "                    )"
   ]
  },
  {
   "cell_type": "markdown",
   "metadata": {},
   "source": [
    "## 使用多实例并行预处理"
   ]
  },
  {
   "cell_type": "code",
   "execution_count": 127,
   "metadata": {},
   "outputs": [
    {
     "name": "stdout",
     "output_type": "stream",
     "text": [
      "\n",
      "Job Name:  cv-pre-processing-2021-01-06-07-04-33-206\n",
      "Inputs:  [{'InputName': 'input-1', 'S3Input': {'S3Uri': 's3://sagemaker-us-west-2-517141035927/dataset/videos/', 'LocalPath': '/opt/ml/processing/input_data', 'S3DataType': 'S3Prefix', 'S3InputMode': 'File', 'S3DataDistributionType': 'ShardedByS3Key', 'S3CompressionType': 'None'}}]\n",
      "Outputs:  [{'OutputName': 'output-1', 'S3Output': {'S3Uri': 's3://sagemaker-us-west-2-517141035927/dataset/np/', 'LocalPath': '/opt/ml/processing/processed_data', 'S3UploadMode': 'EndOfJob'}}]\n",
      "..........................\u001b[34m2021-01-06 07:08:38.601937: W tensorflow/stream_executor/platform/default/dso_loader.cc:60] Could not load dynamic library 'libcudart.so.11.0'; dlerror: libcudart.so.11.0: cannot open shared object file: No such file or directory\u001b[0m\n",
      "\u001b[34m2021-01-06 07:08:38.601970: I tensorflow/stream_executor/cuda/cudart_stub.cc:29] Ignore above cudart dlerror if you do not have a GPU set up on your machine.\u001b[0m\n",
      "\u001b[34mfilename is /opt/ml/processing/input_data/Outdoor_Activities_2.mp4\u001b[0m\n",
      "\u001b[34mfilename is /opt/ml/processing/input_data/Music_2.mp4\u001b[0m\n",
      "\u001b[34mfilename is /opt/ml/processing/input_data/Animals_2.mp4\u001b[0m\n",
      "\u001b[34mfilename is /opt/ml/processing/input_data/1597729971107432.mp4\u001b[0m\n",
      "\u001b[34mfilename is /opt/ml/processing/input_data/Comedy_Funny_2.mp4\u001b[0m\n",
      "\u001b[34mfilename is /opt/ml/processing/input_data/Drama_2.mp4\u001b[0m\n",
      "\u001b[34mfilename is /opt/ml/processing/input_data/Gaming_2.mp4\u001b[0m\n",
      "\u001b[34mfilename is /opt/ml/processing/input_data/DIY_2.mp4\u001b[0m\n",
      "\u001b[34mSaved dataset to  /opt/ml/processing/processed_data/dataset_8_15_False.npz\u001b[0m\n",
      "\u001b[34mX_shape:(8, 32, 32, 15, 3)\u001b[0m\n",
      "\u001b[34mY_shape:(8, 8)\u001b[0m\n",
      "\u001b[35m2021-01-06 07:08:38.504885: W tensorflow/stream_executor/platform/default/dso_loader.cc:60] Could not load dynamic library 'libcudart.so.11.0'; dlerror: libcudart.so.11.0: cannot open shared object file: No such file or directory\u001b[0m\n",
      "\u001b[35m2021-01-06 07:08:38.504915: I tensorflow/stream_executor/cuda/cudart_stub.cc:29] Ignore above cudart dlerror if you do not have a GPU set up on your machine.\u001b[0m\n",
      "\u001b[35mfilename is /opt/ml/processing/input_data/1597729970847089.mp4\u001b[0m\n",
      "\u001b[35mfilename is /opt/ml/processing/input_data/Comedy_Funny_1.mp4\u001b[0m\n",
      "\u001b[35mfilename is /opt/ml/processing/input_data/Music_1.mp4\u001b[0m\n",
      "\u001b[35mfilename is /opt/ml/processing/input_data/Beauty_1.mp4\u001b[0m\n",
      "\u001b[35mfilename is /opt/ml/processing/input_data/Outdoor_Activities_1.mp4\u001b[0m\n",
      "\u001b[35mfilename is /opt/ml/processing/input_data/Gaming_1.mp4\u001b[0m\n",
      "\u001b[35mfilename is /opt/ml/processing/input_data/DIY_1.mp4\u001b[0m\n",
      "\u001b[35mfilename is /opt/ml/processing/input_data/tt-1597729970814458.mp4\u001b[0m\n",
      "\u001b[35mSaved dataset to  /opt/ml/processing/processed_data/dataset_8_15_False.npz\u001b[0m\n",
      "\u001b[35mX_shape:(8, 32, 32, 15, 3)\u001b[0m\n",
      "\u001b[35mY_shape:(8, 8)\u001b[0m\n",
      "\n"
     ]
    }
   ],
   "source": [
    "processor = Processor(image_uri=image_uri,\n",
    "                     role=role,\n",
    "                     instance_count=5,\n",
    "                     instance_type=\"ml.c5.2xlarge\")\n",
    "\n",
    "processor.run(inputs=[ProcessingInput(\n",
    "                        source='s3://sagemaker-us-west-2-517141035927/dataset/videos/',\n",
    "                        destination='/opt/ml/processing/input_data',\n",
    "                        s3_data_distribution_type='ShardedByS3Key')],\n",
    "#                         destination='/opt/ml/processing/input_data',s3_input_mode = 'Pipe')],\n",
    "                    outputs=[ProcessingOutput(\n",
    "                        source='/opt/ml/processing/processed_data',\n",
    "                        destination='s3://sagemaker-us-west-2-517141035927/dataset/np/')],\n",
    "                    )"
   ]
  },
  {
   "cell_type": "code",
   "execution_count": null,
   "metadata": {},
   "outputs": [],
   "source": []
  }
 ],
 "metadata": {
  "instance_type": "ml.c5.large",
  "kernelspec": {
   "display_name": "Python 3 (Data Science)",
   "language": "python",
   "name": "python3__SAGEMAKER_INTERNAL__arn:aws:sagemaker:us-west-2:236514542706:image/datascience-1.0"
  },
  "language_info": {
   "codemirror_mode": {
    "name": "ipython",
    "version": 3
   },
   "file_extension": ".py",
   "mimetype": "text/x-python",
   "name": "python",
   "nbconvert_exporter": "python",
   "pygments_lexer": "ipython3",
   "version": "3.7.6"
  }
 },
 "nbformat": 4,
 "nbformat_minor": 4
}
